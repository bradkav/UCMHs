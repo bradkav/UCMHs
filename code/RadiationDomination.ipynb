{
 "cells": [
  {
   "cell_type": "markdown",
   "metadata": {},
   "source": [
    "### Spherical shell turn out in the Radiation Era"
   ]
  },
  {
   "cell_type": "code",
   "execution_count": 12,
   "metadata": {},
   "outputs": [],
   "source": [
    "%matplotlib inline\n",
    "\n",
    "import numpy as np\n",
    "import matplotlib.pyplot as plt\n",
    "import matplotlib as mpl\n",
    "\n",
    "mpl.rcParams.update({'font.size': 18,'font.family':'serif'})\n",
    "\n",
    "mpl.rcParams['xtick.major.size'] = 7\n",
    "mpl.rcParams['xtick.major.width'] = 1\n",
    "mpl.rcParams['xtick.minor.size'] = 3\n",
    "mpl.rcParams['xtick.minor.width'] = 1\n",
    "mpl.rcParams['ytick.major.size'] = 7\n",
    "mpl.rcParams['ytick.major.width'] = 1\n",
    "mpl.rcParams['ytick.minor.size'] = 3\n",
    "mpl.rcParams['ytick.minor.width'] = 1\n",
    "mpl.rcParams['xtick.direction'] = 'in'\n",
    "mpl.rcParams['ytick.direction'] = 'in'\n",
    "mpl.rcParams['xtick.top'] = True\n",
    "mpl.rcParams['ytick.right'] = True\n",
    "mpl.rcParams['font.family'] = 'serif'\n",
    "mpl.rc('text', usetex=True)\n",
    "\n",
    "mpl.rcParams['legend.edgecolor'] = 'inherit'\n",
    "\n",
    "from scipy.integrate import odeint\n",
    "from scipy.integrate import ode as spode"
   ]
  },
  {
   "cell_type": "markdown",
   "metadata": {},
   "source": [
    "##### Some numerical constants and units"
   ]
  },
  {
   "cell_type": "code",
   "execution_count": 2,
   "metadata": {},
   "outputs": [],
   "source": [
    "G_N = 4.302e-3 #(pc/solar mass) (km/s)^2\n",
    "c_light = 3e5 # km/s\n",
    "\n",
    "km_to_pc = 3.24078e-14\n",
    "T_yr = 3600*24*365\n",
    "\n",
    "G_N_pc_yr = 4.302e-3*(km_to_pc*T_yr)**2 #(pc/solar mass) (pc/yr)^2"
   ]
  },
  {
   "cell_type": "markdown",
   "metadata": {},
   "source": [
    "##### PBH mass"
   ]
  },
  {
   "cell_type": "code",
   "execution_count": 3,
   "metadata": {},
   "outputs": [],
   "source": [
    "M_BH = 1.0 #Solar mass"
   ]
  },
  {
   "cell_type": "markdown",
   "metadata": {},
   "source": [
    "##### Setting up the equations"
   ]
  },
  {
   "cell_type": "code",
   "execution_count": 4,
   "metadata": {},
   "outputs": [],
   "source": [
    "# r in parsec\n",
    "# t in year\n",
    "# v = pc/yr\n",
    "\n",
    "def integ(t,y):\n",
    "    r, v = y \n",
    "    \n",
    "    dr = v\n",
    "    dv = -G_N_pc_yr*M_BH/r**2 - 0.25*r/t**2\n",
    "    \n",
    "    return [dr, dv]"
   ]
  },
  {
   "cell_type": "markdown",
   "metadata": {},
   "source": [
    "##### Initial conditions etc."
   ]
  },
  {
   "cell_type": "code",
   "execution_count": 5,
   "metadata": {},
   "outputs": [],
   "source": [
    "t_eq = 50e3\n",
    "z_eq = 3300\n",
    "\n",
    "zi = 1e7\n",
    "ti = t_eq*(1+z_eq)**2/(1+zi)**2\n"
   ]
  },
  {
   "cell_type": "markdown",
   "metadata": {},
   "source": [
    "##### Setting up the integration"
   ]
  },
  {
   "cell_type": "code",
   "execution_count": 10,
   "metadata": {},
   "outputs": [],
   "source": [
    "t_list = np.logspace(np.log10(ti), np.log10(t_eq+1),1000)\n",
    "t_step = t_list[1:] - t_list[:-1]\n",
    "#t_step = 1e-2\n",
    "\n",
    "#Integrate and return the list of times and shell radii\n",
    "def IntegrateR(ri):\n",
    "    #Initial shell radius and Hubble speed\n",
    "    vi = 0.5*ri/ti\n",
    "\n",
    "    y0 = [ri,vi]\n",
    "    \n",
    "    ode = spode(integ)\n",
    "    # BDF method suited to stiff systems of ODEs\n",
    "    ode.set_integrator('vode',nsteps=500,method='bdf')\n",
    "    ode.set_initial_value(y0,ti)\n",
    "\n",
    "    ts = []\n",
    "    ys = []\n",
    "\n",
    "    i_step = 0\n",
    "    \n",
    "    while ode.successful() and ode.t < t_eq:\n",
    "        ode.integrate(ode.t + t_step[i_step])\n",
    "        i_step += 1\n",
    "        ts.append(ode.t)\n",
    "        ys.append(ode.y)\n",
    "\n",
    "    t = np.vstack(ts)\n",
    "    r,v = np.vstack(ys).T\n",
    "    \n",
    "    return t, r"
   ]
  },
  {
   "cell_type": "markdown",
   "metadata": {},
   "source": [
    "##### Doing the integration"
   ]
  },
  {
   "cell_type": "code",
   "execution_count": 20,
   "metadata": {},
   "outputs": [
    {
     "name": "stderr",
     "output_type": "stream",
     "text": [
      "/Users/bradkav/anaconda3/lib/python3.6/site-packages/scipy/integrate/_ode.py:1009: UserWarning: vode: Excess work done on this call. (Perhaps wrong MF.)\n",
      "  self.messages.get(istate, unexpected_istate_msg)))\n"
     ]
    },
    {
     "data": {
      "image/png": "[encoded data removed]",
      "text/plain": [
       "<matplotlib.figure.Figure at 0x10c110dd8>"
      ]
     },
     "metadata": {},
     "output_type": "display_data"
    }
   ],
   "source": [
    "plt.figure(figsize=(7,5))\n",
    "\n",
    "for ri in [1e-6, 5e-6, 1e-5, 1.4e-5, 2e-5]:\n",
    "    t, r = IntegrateR(ri)\n",
    "    plt.loglog(t,r, label=r'$r_i = %.1f \\times 10^{-5}\\,\\mathrm{pc}$'%((ri/1e-5),))\n",
    "    \n",
    "plt.xlabel('$t$ [yr]')\n",
    "plt.ylabel('$r$ [pc]')\n",
    "\n",
    "plt.ylim(1e-7, 1e-1)\n",
    "\n",
    "#plt.axhline(6.3e-3, linestyle='--', color='grey')\n",
    "plt.axhline(1.7e-2, linestyle='--', color='grey')\n",
    "\n",
    "#plt.legend(loc='upper left', fontsize=14)\n",
    "\n",
    "plt.title(r\"$M_\\mathrm{BH} = 1 \\,\\mathrm{M}_\\odot$\")\n",
    "\n",
    "plt.savefig(\"../plots/ShellTurnAround.pdf\", bbox_inches='tight')\n",
    "plt.show()"
   ]
  },
  {
   "cell_type": "code",
   "execution_count": null,
   "metadata": {},
   "outputs": [],
   "source": []
  },
  {
   "cell_type": "code",
   "execution_count": null,
   "metadata": {},
   "outputs": [],
   "source": []
  }
 ],
 "metadata": {
  "kernelspec": {
   "display_name": "Python 3",
   "language": "python",
   "name": "python3"
  },
  "language_info": {
   "codemirror_mode": {
    "name": "ipython",
    "version": 3
   },
   "file_extension": ".py",
   "mimetype": "text/x-python",
   "name": "python",
   "nbconvert_exporter": "python",
   "pygments_lexer": "ipython3",
   "version": "3.6.4"
  }
 },
 "nbformat": 4,
 "nbformat_minor": 2
}
